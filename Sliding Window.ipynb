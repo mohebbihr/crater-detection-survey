{
 "cells": [
  {
   "cell_type": "code",
   "execution_count": 1,
   "metadata": {},
   "outputs": [],
   "source": [
    "from skimage.transform import pyramid_gaussian\n",
    "import cv2 as cv\n",
    "from helper import sliding_window\n",
    "import time\n",
    "from datetime import timedelta\n",
    "import os\n",
    "import csv\n",
    "from crater_cnn import Network as CNN\n",
    "from crater_nn import Network as NN\n",
    "from crater_plots import plot_image, plot_conv_weights, plot_conv_layer\n",
    "import pickle\n",
    "cwd = os.getcwd()"
   ]
  },
  {
   "cell_type": "code",
   "execution_count": 2,
   "metadata": {},
   "outputs": [
    {
     "name": "stdout",
     "output_type": "stream",
     "text": [
      "INFO:tensorflow:Restoring parameters from /home/argenis/Dropbox/UMass/Jupyter/DataAnalytics/jupyter/model.ckpt\n",
      "Model restored.\n"
     ]
    }
   ],
   "source": [
    "cnn = CNN(img_shape=(50, 50, 1))\n",
    "cnn.add_convolutional_layer(5, 16)\n",
    "cnn.add_convolutional_layer(5, 36)\n",
    "cnn.add_flat_layer()\n",
    "cnn.add_fc_layer(size=64, use_relu=True)\n",
    "cnn.add_fc_layer(size=16, use_relu=True)\n",
    "cnn.add_fc_layer(size=2, use_relu=False)\n",
    "cnn.finish_setup()\n",
    "# model.set_data(data)\n",
    "\n",
    "model_path = os.path.join(cwd, 'model.ckpt')\n",
    "cnn.restore(model_path)"
   ]
  },
  {
   "cell_type": "code",
   "execution_count": 3,
   "metadata": {},
   "outputs": [],
   "source": [
    "with open('nn_model_02500_00.pkl', 'rb') as finput:\n",
    "    nn = pickle.load(finput)"
   ]
  },
  {
   "cell_type": "code",
   "execution_count": 4,
   "metadata": {},
   "outputs": [],
   "source": [
    "path = os.path.join('crater_data', 'images')\n",
    "img = cv.imread(os.path.join(path, 'tile3_24.pgm'), 0)\n",
    "img = cv.normalize(img, img, 0, 255, cv.NORM_MINMAX)/255.0"
   ]
  },
  {
   "cell_type": "code",
   "execution_count": 5,
   "metadata": {},
   "outputs": [
    {
     "name": "stdout",
     "output_type": "stream",
     "text": [
      "Resized shape: 1700, Window size: 20\n",
      "Resized shape: 1700, Window size: 22\n",
      "Resized shape: 1700, Window size: 24\n",
      "Resized shape: 1700, Window size: 26\n",
      "Resized shape: 1700, Window size: 28\n",
      "Resized shape: 1134, Window size: 20\n",
      "Resized shape: 1134, Window size: 22\n",
      "Resized shape: 1134, Window size: 24\n",
      "Resized shape: 1134, Window size: 26\n",
      "Resized shape: 1134, Window size: 28\n",
      "Resized shape: 756, Window size: 20\n",
      "Resized shape: 756, Window size: 22\n",
      "Resized shape: 756, Window size: 24\n",
      "Resized shape: 756, Window size: 26\n",
      "Resized shape: 756, Window size: 28\n",
      "Resized shape: 504, Window size: 20\n",
      "Resized shape: 504, Window size: 22\n",
      "Resized shape: 504, Window size: 24\n",
      "Resized shape: 504, Window size: 26\n",
      "Resized shape: 504, Window size: 28\n",
      "Resized shape: 336, Window size: 20\n",
      "Resized shape: 336, Window size: 22\n",
      "Resized shape: 336, Window size: 24\n",
      "Resized shape: 336, Window size: 26\n",
      "Resized shape: 336, Window size: 28\n",
      "Resized shape: 224, Window size: 20\n",
      "Resized shape: 224, Window size: 22\n",
      "Resized shape: 224, Window size: 24\n",
      "Resized shape: 224, Window size: 26\n",
      "Resized shape: 224, Window size: 28\n",
      "Resized shape: 150, Window size: 20\n",
      "Resized shape: 150, Window size: 22\n",
      "Resized shape: 150, Window size: 24\n",
      "Resized shape: 150, Window size: 26\n",
      "Resized shape: 150, Window size: 28\n",
      "Resized shape: 100, Window size: 20\n",
      "Resized shape: 100, Window size: 22\n",
      "Resized shape: 100, Window size: 24\n",
      "Resized shape: 100, Window size: 26\n",
      "Resized shape: 100, Window size: 28\n",
      "Resized shape: 67, Window size: 20\n",
      "Resized shape: 67, Window size: 22\n",
      "Resized shape: 67, Window size: 24\n",
      "Resized shape: 67, Window size: 26\n",
      "Resized shape: 67, Window size: 28\n",
      "Resized shape: 45, Window size: 20\n",
      "Resized shape: 45, Window size: 22\n",
      "Resized shape: 45, Window size: 24\n",
      "Resized shape: 45, Window size: 26\n",
      "Resized shape: 45, Window size: 28\n",
      "Time usage: 7:13:36\n"
     ]
    }
   ],
   "source": [
    "start_time = time.time()\n",
    "\n",
    "crater_list_cnn = []\n",
    "crater_list_nn = []\n",
    "\n",
    "win_sizes = range(20, 30, 2)\n",
    "# loop over the image pyramid\n",
    "for (i, resized) in enumerate(pyramid_gaussian(img, downscale=1.5)):\n",
    "    if resized.shape[0] < 31:\n",
    "        break\n",
    "    for winS in win_sizes:\n",
    "        print(\"Resized shape: %d, Window size: %d\" % (resized.shape[0], winS))\n",
    "\n",
    "        # loop over the sliding window for each layer of the pyramid\n",
    "        \n",
    "        for (x, y, window) in sliding_window(resized, stepSize=2, windowSize=(winS, winS)):\n",
    "            # since we do not have a classifier, we'll just draw the window\n",
    "            clone = resized.copy()\n",
    "            y_b = y + winS\n",
    "            x_r = x + winS\n",
    "            crop_img = clone[y:y_b, x:x_r]\n",
    "            crop_img =cv.resize(crop_img, (50, 50))\n",
    "            crop_img = crop_img.flatten()\n",
    "            \n",
    "            p_non, p_crater = cnn.predict([crop_img])[0]\n",
    "            nn_p = nn.feedforward_flat(crop_img)[0,0]\n",
    "            \n",
    "            scale_factor = 1.5 ** i\n",
    "            if p_crater >= 0.5 or nn_p >= 0.5:\n",
    "                x_c = int((x + 0.5 * winS) * scale_factor)\n",
    "                y_c = int((y + 0.5 * winS) * scale_factor)\n",
    "                crater_size = int(winS * scale_factor)\n",
    "                \n",
    "                if p_crater >= 0.5:\n",
    "                    crater_data = [x_c, y_c, crater_size, p_crater, 1]\n",
    "                    crater_list_cnn.append(crater_data)\n",
    "                if nn_p >= 0.5:\n",
    "                    crater_data = [x_c, y_c, crater_size, nn_p, 1]\n",
    "                    crater_list_nn.append(crater_data)\n",
    "            \n",
    "            # if we want to see where is processed.\n",
    "            # cv.rectangle(clone, (x, y), (x + winS, y + winS), (0, 255, 0), 2)\n",
    "            # cv.imshow(\"Window\", clone)\n",
    "            # cv.waitKey(1)\n",
    "cnn_file = open(\"crater_24_cnn.csv\",\"w\")\n",
    "with cnn_file:\n",
    "    writer = csv.writer(cnn_file, delimiter=',')\n",
    "    writer.writerows(crater_list_cnn)\n",
    "cnn_file.close()\n",
    "\n",
    "nn_file = open(\"crater_24_nn.csv\",\"w\")\n",
    "with nn_file:\n",
    "    writer = csv.writer(nn_file, delimiter=',')\n",
    "    writer.writerows(crater_list_nn)\n",
    "nn_file.close()\n",
    "\n",
    "end_time = time.time()\n",
    "time_dif = end_time - start_time\n",
    "print(\"Time usage: \" + str(timedelta(seconds=int(round(time_dif)))))\n"
   ]
  },
  {
   "cell_type": "code",
   "execution_count": 6,
   "metadata": {},
   "outputs": [
    {
     "name": "stdout",
     "output_type": "stream",
     "text": [
      "CNN detected  19737 craters\n"
     ]
    }
   ],
   "source": [
    "print(\"CNN detected \", len(crater_list_cnn), \"craters\")"
   ]
  },
  {
   "cell_type": "code",
   "execution_count": 7,
   "metadata": {},
   "outputs": [
    {
     "name": "stdout",
     "output_type": "stream",
     "text": [
      "NN detected  104906 craters\n"
     ]
    }
   ],
   "source": [
    "print(\"NN detected \", len(crater_list_nn), \"craters\")"
   ]
  },
  {
   "cell_type": "code",
   "execution_count": null,
   "metadata": {},
   "outputs": [],
   "source": []
  }
 ],
 "metadata": {
  "kernelspec": {
   "display_name": "Python 3",
   "language": "python",
   "name": "python3"
  },
  "language_info": {
   "codemirror_mode": {
    "name": "ipython",
    "version": 3
   },
   "file_extension": ".py",
   "mimetype": "text/x-python",
   "name": "python",
   "nbconvert_exporter": "python",
   "pygments_lexer": "ipython3",
   "version": "3.5.2"
  }
 },
 "nbformat": 4,
 "nbformat_minor": 2
}
